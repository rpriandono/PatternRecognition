{
 "metadata": {
  "name": "",
  "signature": "sha256:74e0ad2f4b638e46c9fecaa6826bb4546730cdb2ae9c6231b77fef300bfe434e"
 },
 "nbformat": 3,
 "nbformat_minor": 0,
 "worksheets": [
  {
   "cells": [
    {
     "cell_type": "heading",
     "level": 1,
     "metadata": {},
     "source": [
      "Using DTW to compare sounds "
     ]
    },
    {
     "cell_type": "markdown",
     "metadata": {},
     "source": [
      "Using [librosa](https://github.com/bmcfee/librosa/) for instance, you can easily extract the MFCC of sound."
     ]
    },
    {
     "cell_type": "heading",
     "level": 3,
     "metadata": {},
     "source": [
      "Compute the MFCCs of two sounds"
     ]
    },
    {
     "cell_type": "code",
     "collapsed": false,
     "input": [
      "import librosa\n",
      "\n",
      "y1, sr1 = librosa.load('../../Downloads/tmp/sounds/10.wav')\n",
      "y2, sr2 = librosa.load('../../Downloads/tmp/sounds/78.wav')"
     ],
     "language": "python",
     "metadata": {},
     "outputs": [],
     "prompt_number": 1
    },
    {
     "cell_type": "code",
     "collapsed": false,
     "input": [
      "%pylab inline\n",
      "\n",
      "subplot(1, 2, 1)\n",
      "mfcc1 = librosa.feature.mfcc(y1, sr1)\n",
      "librosa.display.specshow(mfcc1)\n",
      "\n",
      "subplot(1, 2, 2)\n",
      "mfcc2 = librosa.feature.mfcc(y2, sr2)\n",
      "librosa.display.specshow(mfcc2)"
     ],
     "language": "python",
     "metadata": {},
     "outputs": [
      {
       "output_type": "stream",
       "stream": "stdout",
       "text": [
        "Populating the interactive namespace from numpy and matplotlib\n"
       ]
      },
      {
       "metadata": {},
       "output_type": "pyout",
       "prompt_number": 2,
       "text": [
        "<matplotlib.image.AxesImage at 0x11276bd10>"
       ]
      },
      {
       "metadata": {},
       "output_type": "display_data",
       "png": "[encoded data removed]",
       "text": [
        "<matplotlib.figure.Figure at 0x112518f10>"
       ]
      }
     ],
     "prompt_number": 2
    },
    {
     "cell_type": "heading",
     "level": 3,
     "metadata": {},
     "source": [
      "Compare them using DTW"
     ]
    },
    {
     "cell_type": "code",
     "collapsed": false,
     "input": [
      "from dtw import dtw"
     ],
     "language": "python",
     "metadata": {},
     "outputs": [],
     "prompt_number": 3
    },
    {
     "cell_type": "code",
     "collapsed": false,
     "input": [
      "dist, cost, path = dtw(mfcc1.T, mfcc2.T)\n",
      "print 'Normalized distance between the two sounds:', dist"
     ],
     "language": "python",
     "metadata": {},
     "outputs": [
      {
       "output_type": "stream",
       "stream": "stdout",
       "text": [
        "Normalized distance between the two sounds: 192.489808008\n"
       ]
      }
     ],
     "prompt_number": 4
    },
    {
     "cell_type": "code",
     "collapsed": false,
     "input": [
      "imshow(cost.T, origin='lower', cmap=cm.gray, interpolation='nearest')\n",
      "plot(path[0], path[1], 'w')\n",
      "xlim((-0.5, cost.shape[0]-0.5))\n",
      "ylim((-0.5, cost.shape[1]-0.5))"
     ],
     "language": "python",
     "metadata": {},
     "outputs": [
      {
       "metadata": {},
       "output_type": "pyout",
       "prompt_number": 5,
       "text": [
        "(-0.5, 37.5)"
       ]
      },
      {
       "metadata": {},
       "output_type": "display_data",
       "png": "[encoded data removed]",
       "text": [
        "<matplotlib.figure.Figure at 0x112743110>"
       ]
      }
     ],
     "prompt_number": 5
    },
    {
     "cell_type": "code",
     "collapsed": false,
     "input": [],
     "language": "python",
     "metadata": {},
     "outputs": []
    }
   ],
   "metadata": {}
  }
 ]
}