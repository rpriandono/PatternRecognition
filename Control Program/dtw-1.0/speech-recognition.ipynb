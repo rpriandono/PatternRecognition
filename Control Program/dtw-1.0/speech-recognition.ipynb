{
 "metadata": {
  "name": "",
  "signature": "sha256:1a22b55a5014fd9ad07e5ec27372e5da71c159d7d2887ac41c40b5d81edf1bf2"
 },
 "nbformat": 3,
 "nbformat_minor": 0,
 "worksheets": [
  {
   "cells": [
    {
     "cell_type": "heading",
     "level": 1,
     "metadata": {},
     "source": [
      "Speech recognition"
     ]
    },
    {
     "cell_type": "markdown",
     "metadata": {},
     "source": [
      "Simple sppeech recognition system can be implemented using DTW + MFCC. "
     ]
    },
    {
     "cell_type": "markdown",
     "metadata": {},
     "source": [
      "We will use a simple [database](https://www.dropbox.com/s/c12fmsctfwwov5d/sounds.zip) composed of 12 french words pronounced about 25 times by different speakers."
     ]
    },
    {
     "cell_type": "code",
     "collapsed": false,
     "input": [
      "%pylab inline"
     ],
     "language": "python",
     "metadata": {},
     "outputs": [
      {
       "output_type": "stream",
       "stream": "stdout",
       "text": [
        "Populating the interactive namespace from numpy and matplotlib\n"
       ]
      }
     ],
     "prompt_number": 1
    },
    {
     "cell_type": "code",
     "collapsed": false,
     "input": [
      "with open('sounds/wavToTag.txt') as f:\n",
      "    labels = array([l.replace('\\n', '') for l in f.readlines()])\n",
      "    \n",
      "print set(labels)"
     ],
     "language": "python",
     "metadata": {},
     "outputs": [
      {
       "output_type": "stream",
       "stream": "stdout",
       "text": [
        "set(['chaussure', 'manette', 'stade', 'jeuvideo', 'beckham', 'zidane', 'ballon', 'gants', 'sofoot', 'girondins', 'cocacola', 'biere'])\n"
       ]
      }
     ],
     "prompt_number": 2
    },
    {
     "cell_type": "heading",
     "level": 2,
     "metadata": {},
     "source": [
      "Precompute all MFCCs"
     ]
    },
    {
     "cell_type": "code",
     "collapsed": false,
     "input": [
      "import librosa\n",
      "\n",
      "mfccs = {}\n",
      "\n",
      "for i in range(len(labels)):\n",
      "    y, sr = librosa.load('sounds/{}.wav'.format(i))\n",
      "    mfcc = librosa.feature.mfcc(y, sr, n_mfcc=13)\n",
      "    mfccs[i] = mfcc.T"
     ],
     "language": "python",
     "metadata": {},
     "outputs": [],
     "prompt_number": 3
    },
    {
     "cell_type": "heading",
     "level": 2,
     "metadata": {},
     "source": [
      "Leave P Out Cross Validation"
     ]
    },
    {
     "cell_type": "code",
     "collapsed": false,
     "input": [
      "def generate_train_test_set(P):\n",
      "    train = []\n",
      "    test = []\n",
      "\n",
      "    for s in set(labels):\n",
      "        all = find(labels == s)\n",
      "        shuffle(all)\n",
      "        train += all[:-P].tolist()\n",
      "        test += all[-P:].tolist()\n",
      "        \n",
      "    return train, test"
     ],
     "language": "python",
     "metadata": {},
     "outputs": [],
     "prompt_number": 4
    },
    {
     "cell_type": "code",
     "collapsed": false,
     "input": [
      "from dtw import dtw\n",
      "\n",
      "# We use DP to speed up multiple tests\n",
      "D = ones((len(labels), len(labels))) * -1\n",
      "\n",
      "def cross_validation(train, test):\n",
      "    score = 0.0\n",
      "\n",
      "    for i in test:\n",
      "        x = mfccs[i]\n",
      "\n",
      "        dmin, jmin = inf, -1\n",
      "        for j in train:\n",
      "            y = mfccs[j]\n",
      "            \n",
      "            d = D[i, j]\n",
      "            if d == -1:\n",
      "                d, _, _ = dtw(x, y)\n",
      "                D[i, j] = d                \n",
      "\n",
      "            if d < dmin:\n",
      "                dmin = d\n",
      "                jmin = j\n",
      "\n",
      "        score += 1.0 if (labels[i] == labels[jmin]) else 0.0\n",
      "        \n",
      "    return score / len(test)"
     ],
     "language": "python",
     "metadata": {},
     "outputs": [],
     "prompt_number": 5
    },
    {
     "cell_type": "code",
     "collapsed": false,
     "input": [
      "train, test = generate_train_test_set(P=1)\n",
      "rec_rate = cross_validation(train, test)\n",
      "print 'Recognition rate {}%'.format(100. * rec_rate)"
     ],
     "language": "python",
     "metadata": {},
     "outputs": [
      {
       "output_type": "stream",
       "stream": "stdout",
       "text": [
        "Recognition rate 83.3333333333%\n"
       ]
      }
     ],
     "prompt_number": 6
    },
    {
     "cell_type": "markdown",
     "metadata": {},
     "source": [
      "The next plot may take a while to compute!"
     ]
    },
    {
     "cell_type": "code",
     "collapsed": false,
     "input": [
      "P = arange(1, 10)\n",
      "N = 5\n",
      "\n",
      "rec = []\n",
      "\n",
      "for p in P:\n",
      "    r = [cross_validation(*generate_train_test_set(p)) for _ in range(N)]\n",
      "    rec.append(r)\n",
      "    \n",
      "rec = array(rec)\n",
      "rec = rec.reshape((N, -1))\n",
      "\n",
      "errorbar(P - 0.5, mean(rec, axis=0), yerr=std(rec, axis=0))\n",
      "xticks(P - 0.5, P)\n",
      "ylim(0, 1)"
     ],
     "language": "python",
     "metadata": {},
     "outputs": [
      {
       "metadata": {},
       "output_type": "pyout",
       "prompt_number": 12,
       "text": [
        "(0, 1)"
       ]
      },
      {
       "metadata": {},
       "output_type": "display_data",
       "png": "[encoded data removed]",
       "text": [
        "<matplotlib.figure.Figure at 0x10d51b610>"
       ]
      }
     ],
     "prompt_number": 12
    },
    {
     "cell_type": "code",
     "collapsed": false,
     "input": [],
     "language": "python",
     "metadata": {},
     "outputs": []
    }
   ],
   "metadata": {}
  }
 ]
}